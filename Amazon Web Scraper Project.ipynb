{
 "cells": [
  {
   "cell_type": "code",
   "execution_count": 1,
   "id": "4d34d645",
   "metadata": {},
   "outputs": [],
   "source": [
    "#Import Libraries\n",
    "\n",
    "from bs4 import BeautifulSoup\n",
    "import requests\n",
    "import smtplib\n",
    "import time\n",
    "import datetime\n",
    "import csv"
   ]
  },
  {
   "cell_type": "code",
   "execution_count": 2,
   "id": "40b59a0c",
   "metadata": {},
   "outputs": [
    {
     "name": "stdout",
     "output_type": "stream",
     "text": [
      "AGARO Supreme Eye Massager with Lukewarm Heat, Relax, Reduce Eye Strain, Relief from Stress, Air Compression Massage, 180° Foldable, 5 Modes, Bluetooth Music, Improves Sleep\n",
      "4655.0\n"
     ]
    }
   ],
   "source": [
    "# Connect to Website\n",
    "\n",
    "URL = 'https://www.amazon.in/AGARO-Massager-Lukewarm-Compression-Bluetooth/dp/B0D5HQ86ZL/ref=sr_1_5?crid=32PTN1WIOL9N1&dib=eyJ2IjoiMSJ9.9vGe1ShTg5owu8Uikd4xdZO28yw73sDk7CVkqeyGFzA3kcutotpFcl189EoHAySvxlp_nyc44zHyFJtl9jbzBHWA_nlwmAC9KeucVOC47PMGXwq64LWeN9AzVOfaTJR3WyTTDCLpUq_LCDVzMiAv7ifsXxKXE2E4IEMMV72JgqxOy6Ns-2XpP_eZwF-ZDjzXRxsCJUD9d8RF6bTuiQFTmwHndL7XAmDEjkjFWtW2MZyVQI3geISV429pFRODWKs_i66tnSj20i79fAemmN77z5SarWlXuUeQC7KcsoTxryeEVgOd-v6gcHLrjeRlxRY2j9uloFlsvDhJd9s_QLg_jNFnp080uV1jDVZs3p9-Z_gRTxkqPbH34GetXfxcUaJa0SU2G1nGM0D0fWA1luBfF-1nEgmKjdpWwrbHQpTLZO9GGVAw6E76FBhSCVyiT_Ra.0qgHeJs2Py_j_Xnu-6_0MccIa0Jj0FqV9iHP4R_pIt0&dib_tag=se&keywords=agaro+eye+mask&nsdOptOutParam=true&qid=1742339613&sprefix=agaro+eye+mask%2Caps%2C188&sr=8-5'\n",
    "\n",
    "headers = {\"User-Agent\": \"Mozilla/5.0 (Windows NT 10.0; Win64; x64) AppleWebKit/537.36 (KHTML, like Gecko) Chrome/134.0.0.0 Safari/537.36\", \"Accept-Encoding\":\"gzip, deflate\", \"Accept\":\"text/html,application/xhtml+xml,application/xml;q=0.9,*/*;q=0.8\", \"DNT\":\"1\",\"Connection\":\"close\", \"Upgrade-Insecure-Requests\":\"1\"}\n",
    "\n",
    "page = requests.get(URL, headers = headers)\n",
    "\n",
    "soup1 = BeautifulSoup(page.content, \"html.parser\")\n",
    "\n",
    "soup2 = BeautifulSoup(soup1.prettify(), \"html.parser\")\n",
    "\n",
    "title = soup2.find(id='productTitle').get_text(strip=True)\n",
    "\n",
    "price = soup2.find('span', class_='a-price-whole').get_text()\n",
    "price = price.strip()[:5]\n",
    "price = float(price.replace(',', ''))\n",
    "print(title)\n",
    "print(price)"
   ]
  },
  {
   "cell_type": "code",
   "execution_count": 3,
   "id": "4bea5213",
   "metadata": {},
   "outputs": [
    {
     "name": "stdout",
     "output_type": "stream",
     "text": [
      "4655.0\n"
     ]
    }
   ],
   "source": [
    "print(price)"
   ]
  },
  {
   "cell_type": "code",
   "execution_count": 4,
   "id": "8f12ec50",
   "metadata": {},
   "outputs": [
    {
     "name": "stdout",
     "output_type": "stream",
     "text": [
      "2025-03-19\n"
     ]
    }
   ],
   "source": [
    "import datetime\n",
    "today = datetime.date.today()\n",
    "print(today)"
   ]
  },
  {
   "cell_type": "code",
   "execution_count": 5,
   "id": "08eacde4",
   "metadata": {},
   "outputs": [],
   "source": [
    "import csv\n",
    "\n",
    "header = ['Title', 'Price', 'Date']\n",
    "data = [title, price, today]\n",
    "\n",
    "# Open a file named in write mode\n",
    "with open('AmazonWebScraperDataset.csv', 'w', newline = '', encoding = 'UTF8') as f:\n",
    "    # Create a writer object to write data to the file.\n",
    "    writer = csv.writer(f)\n",
    "    # Write column names (Title, Price) as the first row.\n",
    "    writer.writerow(header)\n",
    "    # Write actual scraped values (title and price) as the second row.\n",
    "    writer.writerow(data)\n",
    "    "
   ]
  },
  {
   "cell_type": "code",
   "execution_count": 6,
   "id": "1259c1ad",
   "metadata": {},
   "outputs": [
    {
     "name": "stdout",
     "output_type": "stream",
     "text": [
      "                                               Title   Price        Date\n",
      "0  AGARO Supreme Eye Massager with Lukewarm Heat,...  4655.0  2025-03-19\n"
     ]
    }
   ],
   "source": [
    "import pandas as pd\n",
    "\n",
    "df = pd.read_csv(r'C:\\Users\\Mansi Kshirsagar\\AmazonWebScraperDataset.csv')\n",
    "\n",
    "print(df)"
   ]
  },
  {
   "cell_type": "code",
   "execution_count": 7,
   "id": "51b8c244",
   "metadata": {},
   "outputs": [],
   "source": [
    "# Append Data to CSV\n",
    "\n",
    "with open('AmazonWebScraperDataset.csv', 'a+', newline = '', encoding = 'UTF8') as f:\n",
    " \n",
    "    writer = csv.writer(f)\n",
    "    \n",
    "    writer.writerow(data)"
   ]
  },
  {
   "cell_type": "code",
   "execution_count": 8,
   "id": "2afc6f87",
   "metadata": {},
   "outputs": [
    {
     "name": "stdout",
     "output_type": "stream",
     "text": [
      "4655.0\n",
      "Good\n"
     ]
    }
   ],
   "source": [
    "print(price)\n",
    "type(price)\n",
    "if(price<5000):\n",
    "    print('Good')\n",
    "else:\n",
    "    print('Bad')"
   ]
  },
  {
   "cell_type": "code",
   "execution_count": 9,
   "id": "9a04f9f1",
   "metadata": {},
   "outputs": [],
   "source": [
    
    "import smtplib\n",
    "\n",
    "def send_mail():\n",
    "    server = smtplib.SMTP('smtp.gmail.com', 587)\n",
    "    server.ehlo()\n",
    "    server.starttls()\n",
    "    server.ehlo()\n",
    "    \n",
    "    # Use an App Password instead of your actual Gmail password\n",
    "    server.login('m18kran@gmail.com', 'cccm owhc ujwl hird')\n",
    "\n",
    "    subject = \"The Eye Mask you want is below 4000! Now is your chance to buy!\"\n",
    "    body = \"\"\"Mansi, This is the moment we have been waiting for.\n",
    "    Now is your chance to pick up the Eye Mask.\n",
    "    Don't mess it up! Link here:\n",
    "    https://www.amazon.in/AGARO-Massager-Lukewarm-Compression-Bluetooth/dp/B0D5HQ86ZL/ref=sr_1_5?crid=32PTN1WIOL9N1&dib=eyJ2IjoiMSJ9.9vGe1ShTg5owu8Uikd4xdZO28yw73sDk7CVkqeyGFzA3kcutotpFcl189EoHAySvxlp_nyc44zHyFJtl9jbzBHWA_nlwmAC9KeucVOC47PMGXwq64LWeN9AzVOfaTJR3WyTTDCLpUq_LCDVzMiAv7ifsXxKXE2E4IEMMV72JgqxOy6Ns-2XpP_eZwF-ZDjzXRxsCJUD9d8RF6bTuiQFTmwHndL7XAmDEjkjFWtW2MZyVQI3geISV429pFRODWKs_i66tnSj20i79fAemmN77z5SarWlXuUeQC7KcsoTxryeEVgOd-v6gcHLrjeRlxRY2j9uloFlsvDhJd9s_QLg_jNFnp080uV1jDVZs3p9-Z_gRTxkqPbH34GetXfxcUaJa0SU2G1nGM0D0fWA1luBfF-1nEgmKjdpWwrbHQpTLZO9GGVAw6E76FBhSCVyiT_Ra.0qgHeJs2Py_j_Xnu-6_0MccIa0Jj0FqV9iHP4R_pIt0&dib_tag=se&keywords=agaro+eye+mask&nsdOptOutParam=true&qid=1742339613&sprefix=agaro+eye+mask%2Caps%2C188&sr=8-5\"\"\"\n",
    "\n",
    "    msg = f\"Subject: {subject}\\n\\n{body}\"\n",
    "\n",
    "    server.sendmail(\n",
    "        'm18kran@gmail.com',  # Sender email\n",
    "        'm18kran@gmail.com', # Recipient Address\n",
    "        msg  # Message\n",
    "    )\n",
    "\n",
    "    print(\"Email has been sent!\")\n",
    "    server.quit()\n"
   ]
  },
  {
   "cell_type": "code",
   "execution_count": 10,
   "id": "cd305e01",
   "metadata": {},
   "outputs": [],
   "source": [
    "def check_price():\n",
    "    URL = 'https://www.amazon.in/AGARO-Massager-Lukewarm-Compression-Bluetooth/dp/B0D5HQ86ZL/ref=sr_1_5?crid=32PTN1WIOL9N1&dib=eyJ2IjoiMSJ9.9vGe1ShTg5owu8Uikd4xdZO28yw73sDk7CVkqeyGFzA3kcutotpFcl189EoHAySvxlp_nyc44zHyFJtl9jbzBHWA_nlwmAC9KeucVOC47PMGXwq64LWeN9AzVOfaTJR3WyTTDCLpUq_LCDVzMiAv7ifsXxKXE2E4IEMMV72JgqxOy6Ns-2XpP_eZwF-ZDjzXRxsCJUD9d8RF6bTuiQFTmwHndL7XAmDEjkjFWtW2MZyVQI3geISV429pFRODWKs_i66tnSj20i79fAemmN77z5SarWlXuUeQC7KcsoTxryeEVgOd-v6gcHLrjeRlxRY2j9uloFlsvDhJd9s_QLg_jNFnp080uV1jDVZs3p9-Z_gRTxkqPbH34GetXfxcUaJa0SU2G1nGM0D0fWA1luBfF-1nEgmKjdpWwrbHQpTLZO9GGVAw6E76FBhSCVyiT_Ra.0qgHeJs2Py_j_Xnu-6_0MccIa0Jj0FqV9iHP4R_pIt0&dib_tag=se&keywords=agaro+eye+mask&nsdOptOutParam=true&qid=1742339613&sprefix=agaro+eye+mask%2Caps%2C188&sr=8-5'\n",
    "\n",
    "    headers = {\"User-Agent\": \"Mozilla/5.0 (Windows NT 10.0; Win64; x64) AppleWebKit/537.36 (KHTML, like Gecko) Chrome/134.0.0.0 Safari/537.36\", \"Accept-Encoding\":\"gzip, deflate\", \"Accept\":\"text/html,application/xhtml+xml,application/xml;q=0.9,*/*;q=0.8\", \"DNT\":\"1\",\"Connection\":\"close\", \"Upgrade-Insecure-Requests\":\"1\"}\n",
    "\n",
    "    page = requests.get(URL, headers = headers)\n",
    "\n",
    "    soup1 = BeautifulSoup(page.content, \"html.parser\")\n",
    "\n",
    "    soup2 = BeautifulSoup(soup1.prettify(), \"html.parser\")\n",
    "\n",
    "    title = soup2.find(id='productTitle').get_text(strip=True)\n",
    "\n",
    "    price = soup2.find('span', class_='a-price-whole').get_text(strip=True)\n",
    "    \n",
    "    price = price.strip()[:5]\n",
    "    \n",
    "    price = float(price.replace(',', ''))\n",
    "    \n",
    "    import datetime\n",
    "    \n",
    "    today = datetime.date.today()\n",
    "    \n",
    "    header = ['Title', 'Price', 'Date']\n",
    "    \n",
    "    data = [title, price, today]\n",
    "    \n",
    "    with open('AmazonWebScraperDataset.csv', 'a+', newline = '', encoding = 'UTF8') as f:\n",
    " \n",
    "        writer = csv.writer(f)\n",
    "\n",
    "        writer.writerow(data)\n",
    "        \n",
    "    if(price < 4000):\n",
    "        send_mail()\n",
    " \n"
   ]
  },
  {
   "cell_type": "code",
   "execution_count": null,
   "id": "67e9d0cd",
   "metadata": {},
   "outputs": [
    {
     "name": "stdout",
     "output_type": "stream",
     "text": [
      "Email has been sent!\n"
     ]
    }
   ],
   "source": [
    "while(True):\n",
    "    check_price()\n",
    "    time.sleep(43200)"
   ]
  },
  {
   "cell_type": "code",
   "execution_count": null,
   "id": "ba2652b6",
   "metadata": {},
   "outputs": [],
   "source": [
    "import pandas as pd\n",
    "\n",
    "df = pd.read_csv(r'C:\\Users\\Mansi Kshirsagar\\AmazonWebScraperDataset.csv')\n",
    "\n",
    "print(df)"
   ]
  },
  {
   "cell_type": "code",
   "execution_count": null,
   "id": "f4d17ef8",
   "metadata": {},
   "outputs": [],
   "source": []
  },
  {
   "cell_type": "code",
   "execution_count": null,
   "id": "112382a3",
   "metadata": {},
   "outputs": [],
   "source": []
  },
  {
   "cell_type": "code",
   "execution_count": null,
   "id": "cf784583",
   "metadata": {},
   "outputs": [],
   "source": []
  },
  {
   "cell_type": "code",
   "execution_count": null,
   "id": "a4c34e6c",
   "metadata": {},
   "outputs": [],
   "source": []
  },
  {
   "cell_type": "code",
   "execution_count": null,
   "id": "ccbebac4",
   "metadata": {},
   "outputs": [],
   "source": []
  },
  {
   "cell_type": "code",
   "execution_count": null,
   "id": "489bc62b",
   "metadata": {},
   "outputs": [],
   "source": []
  },
  {
   "cell_type": "code",
   "execution_count": null,
   "id": "cbe20b8d",
   "metadata": {},
   "outputs": [],
   "source": []
  },
  {
   "cell_type": "code",
   "execution_count": null,
   "id": "0657cb41",
   "metadata": {},
   "outputs": [],
   "source": []
  },
  {
   "cell_type": "code",
   "execution_count": null,
   "id": "b55f40dc",
   "metadata": {},
   "outputs": [],
   "source": []
  },
  {
   "cell_type": "code",
   "execution_count": null,
   "id": "e1f6bdfd",
   "metadata": {},
   "outputs": [],
   "source": []
  },
  {
   "cell_type": "code",
   "execution_count": null,
   "id": "050cbe63",
   "metadata": {},
   "outputs": [],
   "source": []
  },
  {
   "cell_type": "code",
   "execution_count": null,
   "id": "4067dfc5",
   "metadata": {},
   "outputs": [],
   "source": []
  },
  {
   "cell_type": "code",
   "execution_count": null,
   "id": "083a3cee",
   "metadata": {},
   "outputs": [],
   "source": []
  },
  {
   "cell_type": "code",
   "execution_count": null,
   "id": "fe348ce5",
   "metadata": {},
   "outputs": [],
   "source": []
  },
  {
   "cell_type": "code",
   "execution_count": null,
   "id": "304b3cbc",
   "metadata": {},
   "outputs": [],
   "source": []
  },
  {
   "cell_type": "code",
   "execution_count": null,
   "id": "02c7c924",
   "metadata": {},
   "outputs": [],
   "source": []
  },
  {
   "cell_type": "code",
   "execution_count": null,
   "id": "3dcbc04d",
   "metadata": {},
   "outputs": [],
   "source": []
  },
  {
   "cell_type": "code",
   "execution_count": null,
   "id": "57f2ba71",
   "metadata": {},
   "outputs": [],
   "source": []
  },
  {
   "cell_type": "code",
   "execution_count": null,
   "id": "be5308b4",
   "metadata": {},
   "outputs": [],
   "source": []
  },
  {
   "cell_type": "code",
   "execution_count": null,
   "id": "863105f4",
   "metadata": {},
   "outputs": [],
   "source": []
  },
  {
   "cell_type": "code",
   "execution_count": null,
   "id": "2d1867d0",
   "metadata": {},
   "outputs": [],
   "source": []
  },
  {
   "cell_type": "code",
   "execution_count": null,
   "id": "c95bae36",
   "metadata": {},
   "outputs": [],
   "source": []
  }
 ],
 "metadata": {
  "kernelspec": {
   "display_name": "Python 3 (ipykernel)",
   "language": "python",
   "name": "python3"
  },
  "language_info": {
   "codemirror_mode": {
    "name": "ipython",
    "version": 3
   },
   "file_extension": ".py",
   "mimetype": "text/x-python",
   "name": "python",
   "nbconvert_exporter": "python",
   "pygments_lexer": "ipython3",
   "version": "3.11.5"
  }
 },
 "nbformat": 4,
 "nbformat_minor": 5
}
